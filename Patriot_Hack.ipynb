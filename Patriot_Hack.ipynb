{
 "cells": [
  {
   "cell_type": "code",
   "execution_count": 2,
   "metadata": {},
   "outputs": [
    {
     "name": "stdout",
     "output_type": "stream",
     "text": [
      "    Unnamed: 0  movie_tmdb_id  Adam Driver  Adam Sandler  \\\n",
      "21          31          20829            0             1   \n",
      "22          32          38365            0             1   \n",
      "23          33          50546            0             1   \n",
      "25          35          38317            0             1   \n",
      "28          38          71880            0             1   \n",
      "30          40          87428            0             1   \n",
      "31          41          76492            0             1   \n",
      "32          42         109418            0             1   \n",
      "34          44         232672            0             1   \n",
      "35          50         257344            0             1   \n",
      "36          53         159824            0             1   \n",
      "\n",
      "    Arnold Schwarzenegger  Ben Affleck  Ben Stiller  Benedict Cumberbatch  \\\n",
      "21                      0            0            0                     0   \n",
      "22                      0            0            0                     0   \n",
      "23                      0            0            0                     0   \n",
      "25                      0            0            0                     0   \n",
      "28                      0            0            0                     0   \n",
      "30                      0            0            0                     0   \n",
      "31                      0            0            0                     0   \n",
      "32                      0            0            0                     0   \n",
      "34                      0            0            0                     0   \n",
      "35                      0            0            0                     0   \n",
      "36                      0            0            0                     0   \n",
      "\n",
      "    Benedict Wong  Bill Murray  ...  Tom Cruise  Tom Hanks  Tom Hiddleston  \\\n",
      "21              0            0  ...           0          0               0   \n",
      "22              0            0  ...           0          0               0   \n",
      "23              0            0  ...           0          0               0   \n",
      "25              0            0  ...           0          0               0   \n",
      "28              0            0  ...           0          0               0   \n",
      "30              0            0  ...           0          0               0   \n",
      "31              0            0  ...           0          0               0   \n",
      "32              0            0  ...           0          0               0   \n",
      "34              0            0  ...           0          0               0   \n",
      "35              0            0  ...           0          0               0   \n",
      "36              0            0  ...           0          0               0   \n",
      "\n",
      "    Tom Holland  Vin Diesel  Will Ferrell  Will Smith  Zoe Saldana    budget  \\\n",
      "21            0           0             0           0            0  75000000   \n",
      "22            0           0             0           0            0  80000000   \n",
      "23            0           0             0           0            0  80000000   \n",
      "25            0           0             0           0            0  80000000   \n",
      "28            0           0             0           0            0  79000000   \n",
      "30            0           0             0           0            0  70000000   \n",
      "31            0           0             0           0            0  85000000   \n",
      "32            0           0             0           0            0  80000000   \n",
      "34            0           0             0           0            0  40000000   \n",
      "35            0           0             0           0            0  88000000   \n",
      "36            0           0             0           0            0  80000000   \n",
      "\n",
      "      revenue  \n",
      "21   61458982  \n",
      "22  271430189  \n",
      "23  214918407  \n",
      "25  169852759  \n",
      "28  149673788  \n",
      "30   58058367  \n",
      "31  358375603  \n",
      "32  246984278  \n",
      "34  123494610  \n",
      "35  243637091  \n",
      "36  473226958  \n",
      "\n",
      "[11 rows x 104 columns]\n"
     ]
    }
   ],
   "source": [
    "import pandas as pd\n",
    "\n",
    "movies_with_actors = pd.read_csv(\"PatriotHack.csv\", index_col=False)\n",
    "actor_movies = movies_with_actors.loc[movies_with_actors['Adam Sandler'] == 1]\n",
    "print(actor_movies)\n",
    "\n",
    "\n",
    "\n",
    "\n"
   ]
  },
  {
   "cell_type": "code",
   "execution_count": null,
   "metadata": {},
   "outputs": [],
   "source": []
  }
 ],
 "metadata": {
  "kernelspec": {
   "display_name": "Python 3",
   "language": "python",
   "name": "python3"
  },
  "language_info": {
   "codemirror_mode": {
    "name": "ipython",
    "version": 3
   },
   "file_extension": ".py",
   "mimetype": "text/x-python",
   "name": "python",
   "nbconvert_exporter": "python",
   "pygments_lexer": "ipython3",
   "version": "3.7.3"
  }
 },
 "nbformat": 4,
 "nbformat_minor": 2
}
